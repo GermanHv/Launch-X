{
 "cells": [
  {
   "cell_type": "code",
   "execution_count": 2,
   "metadata": {},
   "outputs": [
    {
     "name": "stdout",
     "output_type": "stream",
     "text": [
      "4\n",
      "3\n",
      "2\n",
      "1\n",
      "0\n",
      "Blast off!! 🚀\n"
     ]
    }
   ],
   "source": [
    "from time import sleep\n",
    "countdown = [4, 3, 2, 1, 0]\n",
    "for number in countdown:\n",
    "    print(number)\n",
    "    sleep(1)\n",
    "\n",
    "print(\"Blast off!! 🚀\")"
   ]
  },
  {
   "cell_type": "markdown",
   "metadata": {},
   "source": [
    "# ejercicio 1\n"
   ]
  },
  {
   "cell_type": "code",
   "execution_count": 19,
   "metadata": {},
   "outputs": [
    {
     "name": "stdout",
     "output_type": "stream",
     "text": [
      "jupiter\n",
      "jupiter\n",
      "saludos\n",
      "jupiter\n",
      "saludos\n",
      "trean\n",
      "jupiter\n",
      "saludos\n",
      "trean\n",
      "ok\n",
      "jupiter\n",
      "saludos\n",
      "trean\n",
      "ok\n",
      "okido\n",
      "jupiter\n",
      "saludos\n",
      "trean\n",
      "ok\n",
      "okido\n",
      "jupiter\n",
      "saludos\n",
      "trean\n",
      "ok\n",
      "okido\n",
      "jupiter\n",
      "saludos\n",
      "trean\n",
      "ok\n",
      "okido\n",
      "4\n",
      "jupiter\n",
      "saludos\n",
      "trean\n",
      "ok\n",
      "okido\n",
      "4\n",
      "4\n",
      "['jupiter', 'saludos', 'trean', 'ok', 'okido', '4', '4']\n"
     ]
    }
   ],
   "source": [
    "planets = []\n",
    "new_planet = ''\n",
    "planet = ''\n",
    "while new_planet.lower() != 'done': #No sirve de nada .lower() ??\n",
    "    if new_planet:\n",
    "        planets.append(new_planet)\n",
    "    new_planet = input('Escriba un nuevo planeta o done si termino') \n",
    "    for planet in planets:\n",
    "     print (planet)\n",
    "    \n",
    "    \n",
    "print (planets)"
   ]
  }
 ],
 "metadata": {
  "interpreter": {
   "hash": "916dbcbb3f70747c44a77c7bcd40155683ae19c65e1c03b4aa3499c5328201f1"
  },
  "kernelspec": {
   "display_name": "Python 3.8.10 64-bit",
   "language": "python",
   "name": "python3"
  },
  "language_info": {
   "codemirror_mode": {
    "name": "ipython",
    "version": 3
   },
   "file_extension": ".py",
   "mimetype": "text/x-python",
   "name": "python",
   "nbconvert_exporter": "python",
   "pygments_lexer": "ipython3",
   "version": "3.8.10"
  },
  "orig_nbformat": 4
 },
 "nbformat": 4,
 "nbformat_minor": 2
}
