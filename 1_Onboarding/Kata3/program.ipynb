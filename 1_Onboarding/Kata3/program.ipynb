{
 "cells": [
  {
   "cell_type": "code",
   "execution_count": 6,
   "metadata": {},
   "outputs": [
    {
     "name": "stdout",
     "output_type": "stream",
     "text": [
      "ALERTA! Asteroide cerca de la Tierra\n"
     ]
    }
   ],
   "source": [
    "asteroide = 49\n",
    "if asteroide > 25:\n",
    "    print ('ALERTA! Asteroide cerca de la Tierra')\n",
    "\n",
    "else:\n",
    "    print ('Continue con su dia :)')\n"
   ]
  },
  {
   "cell_type": "code",
   "execution_count": 15,
   "metadata": {},
   "outputs": [
    {
     "name": "stdout",
     "output_type": "stream",
     "text": [
      "OK el cielo esta fine\n"
     ]
    }
   ],
   "source": [
    "asteroide = 19\n",
    "\n",
    "if asteroide >= 20 :\n",
    "    print (\"Mira hacia el cielo un asteroide entro a la atmosfera\")\n",
    "\n",
    "elif asteroide == 20:\n",
    "    print (\"Mire el cielo\")\n",
    "\n",
    "else :\n",
    "    print (\"OK el cielo esta fine\")"
   ]
  },
  {
   "cell_type": "code",
   "execution_count": 19,
   "metadata": {},
   "outputs": [
    {
     "name": "stdout",
     "output_type": "stream",
     "text": [
      "Miren el cielo :)\n"
     ]
    }
   ],
   "source": [
    "vasteroide = 24\n",
    "tasteroide = 24\n",
    "\n",
    "if tasteroide  >= 25  or vasteroide >= 25 :\n",
    "   print (\"ALERTA! Se acerca un asteroide\")\n",
    "\n",
    "else:\n",
    "    print (\"Miren el cielo :)\")\n",
    "\n"
   ]
  }
 ],
 "metadata": {
  "interpreter": {
   "hash": "916dbcbb3f70747c44a77c7bcd40155683ae19c65e1c03b4aa3499c5328201f1"
  },
  "kernelspec": {
   "display_name": "Python 3.8.10 64-bit",
   "language": "python",
   "name": "python3"
  },
  "language_info": {
   "codemirror_mode": {
    "name": "ipython",
    "version": 3
   },
   "file_extension": ".py",
   "mimetype": "text/x-python",
   "name": "python",
   "nbconvert_exporter": "python",
   "pygments_lexer": "ipython3",
   "version": "3.8.10"
  },
  "orig_nbformat": 4
 },
 "nbformat": 4,
 "nbformat_minor": 2
}
