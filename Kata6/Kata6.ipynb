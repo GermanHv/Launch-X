{
 "cells": [
  {
   "cell_type": "markdown",
   "metadata": {},
   "source": [
    "# Ejercicio 1   "
   ]
  },
  {
   "cell_type": "code",
   "execution_count": 11,
   "metadata": {},
   "outputs": [
    {
     "name": "stdout",
     "output_type": "stream",
     "text": [
      "['Mercurio', 'Venus', 'Tierra', 'Marte', 'Jupiter', 'Saturno', 'Urano', 'Neptuno']\n",
      "Pluton\n"
     ]
    }
   ],
   "source": [
    "planets = ['Mercurio','Venus', 'Tierra', 'Marte', 'Jupiter','Saturno','Urano','Neptuno']\n",
    "print (planets)\n",
    "\n",
    "planets.append('Pluton')\n",
    "print (planets[-1])"
   ]
  },
  {
   "cell_type": "markdown",
   "metadata": {},
   "source": [
    "# Ejercicio 2"
   ]
  },
  {
   "cell_type": "code",
   "execution_count": 19,
   "metadata": {},
   "outputs": [
    {
     "name": "stdout",
     "output_type": "stream",
     "text": [
      "Los planetas mas cercanos al sol de tu planeta Jupiter\n",
      "['Mercury', 'Venus', 'Earth', 'Mars']\n",
      "Los planetas mas alejados al sol de tu planeta Jupiter\n",
      "['Saturn', 'Neptune']\n"
     ]
    }
   ],
   "source": [
    "planets = ['Mercury', 'Venus', 'Earth', 'Mars', 'Jupiter', 'Saturn', 'Neptune']\n",
    "\n",
    "In=input(\"Escriba un nombre de un planeta con la inicial en mayuscula\")\n",
    "\n",
    "valor= planets.index(In)\n",
    "\n",
    "print ('Los planetas mas cercanos al sol de tu planeta ' + In)\n",
    "print (planets[0:valor])\n",
    "\n",
    "print ('Los planetas mas alejados al sol de tu planeta ' + In)\n",
    "print (planets[valor +1:8])"
   ]
  }
 ],
 "metadata": {
  "interpreter": {
   "hash": "916dbcbb3f70747c44a77c7bcd40155683ae19c65e1c03b4aa3499c5328201f1"
  },
  "kernelspec": {
   "display_name": "Python 3.8.10 64-bit",
   "language": "python",
   "name": "python3"
  },
  "language_info": {
   "codemirror_mode": {
    "name": "ipython",
    "version": 3
   },
   "file_extension": ".py",
   "mimetype": "text/x-python",
   "name": "python",
   "nbconvert_exporter": "python",
   "pygments_lexer": "ipython3",
   "version": "3.8.10"
  },
  "orig_nbformat": 4
 },
 "nbformat": 4,
 "nbformat_minor": 2
}
